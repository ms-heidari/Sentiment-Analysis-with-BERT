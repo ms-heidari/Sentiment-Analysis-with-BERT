{
 "cells": [
  {
   "cell_type": "markdown",
   "metadata": {
    "id": "Ei01AACMTRoY"
   },
   "source": [
    "#Install required libraries"
   ]
  },
  {
   "cell_type": "markdown",
   "metadata": {
    "id": "j1hGolpoVfij"
   },
   "source": [
    "<div dir=rtl>\n",
    "در این سلول، کتابخانه های مورد نیاز بترتیب برای پیش پردازش متن ها و نیز ایجاد اپتیمایزر نصب میشوند.\n",
    "</div>"
   ]
  },
  {
   "cell_type": "code",
   "execution_count": 1,
   "metadata": {
    "colab": {
     "base_uri": "https://localhost:8080/"
    },
    "id": "QglLXMUxqCNq",
    "outputId": "21791a9f-d4ef-46a8-b9ef-4f609c22be77"
   },
   "outputs": [
    {
     "name": "stdout",
     "output_type": "stream",
     "text": [
      "\u001b[K     |████████████████████████████████| 4.6 MB 37.9 MB/s \n",
      "\u001b[K     |████████████████████████████████| 511.7 MB 6.7 kB/s \n",
      "\u001b[K     |████████████████████████████████| 1.6 MB 65.3 MB/s \n",
      "\u001b[K     |████████████████████████████████| 438 kB 74.4 MB/s \n",
      "\u001b[K     |████████████████████████████████| 5.8 MB 61.9 MB/s \n",
      "\u001b[K     |████████████████████████████████| 2.1 MB 30.8 MB/s \n",
      "\u001b[K     |████████████████████████████████| 1.2 MB 57.8 MB/s \n",
      "\u001b[K     |████████████████████████████████| 352 kB 64.6 MB/s \n",
      "\u001b[K     |████████████████████████████████| 237 kB 64.5 MB/s \n",
      "\u001b[K     |████████████████████████████████| 99 kB 3.1 MB/s \n",
      "\u001b[K     |████████████████████████████████| 636 kB 47.0 MB/s \n",
      "\u001b[K     |████████████████████████████████| 48.3 MB 1.3 MB/s \n",
      "\u001b[K     |████████████████████████████████| 43 kB 2.0 MB/s \n",
      "\u001b[K     |████████████████████████████████| 92 kB 11.9 MB/s \n",
      "\u001b[K     |████████████████████████████████| 1.1 MB 59.5 MB/s \n",
      "\u001b[?25h  Building wheel for py-cpuinfo (setup.py) ... \u001b[?25l\u001b[?25hdone\n",
      "  Building wheel for seqeval (setup.py) ... \u001b[?25l\u001b[?25hdone\n"
     ]
    }
   ],
   "source": [
    "!pip install -q tensorflow-text\n",
    "!pip install -q tf-models-official"
   ]
  },
  {
   "cell_type": "markdown",
   "metadata": {
    "id": "8zMuQInaTV13"
   },
   "source": [
    "#Import required libraries"
   ]
  },
  {
   "cell_type": "code",
   "execution_count": 2,
   "metadata": {
    "id": "l5WXbEaIqTqF"
   },
   "outputs": [],
   "source": [
    "import os\n",
    "import shutil\n",
    "\n",
    "import tensorflow as tf\n",
    "import tensorflow_hub as hub\n",
    "import tensorflow_text as text\n",
    "from official.nlp import optimization  \n",
    "\n",
    "\n",
    "tf.get_logger().setLevel('ERROR')"
   ]
  },
  {
   "cell_type": "markdown",
   "metadata": {
    "id": "QhPpSNi-TXiP"
   },
   "source": [
    "#Download dataset"
   ]
  },
  {
   "cell_type": "markdown",
   "metadata": {
    "id": "W5U4Z6mjYi91"
   },
   "source": [
    "<div dir=rtl>\n",
    "در ابتدا آدرس دیتاست آی ام دی بی در متغیر یو ار ال ذخیره میگردد. سپس دیتاست مذکور دانلود شده و در فایل سیستم ذخیره میگردد.\n",
    "</div>"
   ]
  },
  {
   "cell_type": "code",
   "execution_count": 3,
   "metadata": {
    "colab": {
     "base_uri": "https://localhost:8080/"
    },
    "id": "q4FIBR_mqYUO",
    "outputId": "edbe8225-867a-4a55-e24a-83534faa6fa8"
   },
   "outputs": [
    {
     "name": "stdout",
     "output_type": "stream",
     "text": [
      "Downloading data from https://ai.stanford.edu/~amaas/data/sentiment/aclImdb_v1.tar.gz\n",
      "84125825/84125825 [==============================] - 8s 0us/step\n"
     ]
    }
   ],
   "source": [
    "url = 'https://ai.stanford.edu/~amaas/data/sentiment/aclImdb_v1.tar.gz'\n",
    "\n",
    "dataset = tf.keras.utils.get_file('aclImdb_v1.tar.gz', url,\n",
    "                                  untar=True, cache_dir='.',\n",
    "                                  cache_subdir='')\n",
    "\n",
    "dataset_dir = os.path.join(os.path.dirname(dataset), 'aclImdb')\n",
    "train_dir = os.path.join(dataset_dir, 'train')\n",
    "remove_dir = os.path.join(train_dir, 'unsup')\n",
    "\n",
    "shutil.rmtree(remove_dir)"
   ]
  },
  {
   "cell_type": "markdown",
   "metadata": {
    "id": "ec53O46WTZ-0"
   },
   "source": [
    "#Data prepration"
   ]
  },
  {
   "cell_type": "markdown",
   "metadata": {
    "id": "CjZ2UOTsacqk"
   },
   "source": [
    "<div dir=rtl>\n",
    "داده های دانلود شده به سه قسمت تست و ترین و ولیدیشن ذخیره میشوند. بچ سایز داده ها برابر 64 میباشد و سید استفاده شده برای تکرار داده های انتخاب شده برای تست و ترین و ولیدیشن در هر بار اجرای برنامه است. در واقع از سید برای تکراری انجام شدن تسک هایی که با مقدار دهی اولیه رندوم سرو کار دارند استفاده میشود.\n",
    "</div>"
   ]
  },
  {
   "cell_type": "code",
   "execution_count": 4,
   "metadata": {
    "colab": {
     "base_uri": "https://localhost:8080/"
    },
    "id": "gtwbOEFNqc-W",
    "outputId": "2b120cad-d451-4635-ce79-f394691c5e69"
   },
   "outputs": [
    {
     "name": "stdout",
     "output_type": "stream",
     "text": [
      "Found 25000 files belonging to 2 classes.\n",
      "Using 20000 files for training.\n",
      "Found 25000 files belonging to 2 classes.\n",
      "Using 5000 files for validation.\n",
      "Found 25000 files belonging to 2 classes.\n"
     ]
    }
   ],
   "source": [
    "AUTOTUNE = tf.data.AUTOTUNE\n",
    "batch_size = 64\n",
    "seed = 42\n",
    "\n",
    "raw_train_ds = tf.keras.preprocessing.text_dataset_from_directory(\n",
    "    'aclImdb/train',\n",
    "    batch_size=batch_size,\n",
    "    validation_split=0.2,\n",
    "    subset='training',\n",
    "    seed=seed)\n",
    "\n",
    "class_names = raw_train_ds.class_names\n",
    "train_ds = raw_train_ds.cache().prefetch(buffer_size=AUTOTUNE)\n",
    "\n",
    "val_ds = tf.keras.preprocessing.text_dataset_from_directory(\n",
    "    'aclImdb/train',\n",
    "    batch_size=batch_size,\n",
    "    validation_split=0.2,\n",
    "    subset='validation',\n",
    "    seed=seed)\n",
    "\n",
    "val_ds = val_ds.cache().prefetch(buffer_size=AUTOTUNE)\n",
    "\n",
    "test_ds = tf.keras.preprocessing.text_dataset_from_directory(\n",
    "    'aclImdb/test',\n",
    "    batch_size=batch_size)\n",
    "\n",
    "test_ds = test_ds.cache().prefetch(buffer_size=AUTOTUNE)"
   ]
  },
  {
   "cell_type": "markdown",
   "metadata": {
    "id": "6v3K1M62U9DT"
   },
   "source": [
    "#Print 3 sample from dataset (text & label)"
   ]
  },
  {
   "cell_type": "markdown",
   "metadata": {
    "id": "PSZGBO5mbmmI"
   },
   "source": [
    "<div dir=rtl>\n",
    "در این سلول سه نمونه از داده های ترین بهمراه کلاس آنها چاپ شده است.\n",
    "</div>"
   ]
  },
  {
   "cell_type": "code",
   "execution_count": 5,
   "metadata": {
    "colab": {
     "base_uri": "https://localhost:8080/"
    },
    "id": "0ySS--54qfsI",
    "outputId": "dce1e573-b984-4a36-c815-ef45dab4a6d0"
   },
   "outputs": [
    {
     "name": "stdout",
     "output_type": "stream",
     "text": [
      "Review: b\"First of all, I liked very much the central idea of locating the '' intruders'', Others in the fragile Self, on various levels - mainly subconscious but sometimes more allegorical. In fact the intruders are omnipresent throughout the film : in the Swiss-French border where the pretagonist leads secluded life; in the his recurring daydream and nightmare; inside his ailing body after heart transplantation.... In the last half of the film, he becomes intruder himself, returning in ancient french colony in the hope of atoning for the past. <br /><br />The overall tone is bitter rather than pathetic, full of regrets and guilts, sense of failure being more or less dominant. This is a quite grim picture of an old age, ostensibly self-dependent but hopelessly void and lonely inside. The directer composes the images more to convey passing sensations of anxiety and desire than any explicit meanings. Some of them are mesmerizing, not devoid of humor though, kind of absurdist play only somnambulist can visualize.\"\n",
      "Label : 1 (pos)\n",
      "Review: b\"David Mamet is a very interesting and a very un-equal director. His first movie 'House of Games' was the one I liked best, and it set a series of films with characters whose perspective of life changes as they get into complicated situations, and so does the perspective of the viewer.<br /><br />So is 'Homicide' which from the title tries to set the mind of the viewer to the usual crime drama. The principal characters are two cops, one Jewish and one Irish who deal with a racially charged area. The murder of an old Jewish shop owner who proves to be an ancient veteran of the Israeli Independence war triggers the Jewish identity in the mind and heart of the Jewish detective.<br /><br />This is were the flaws of the film are the more obvious. The process of awakening is theatrical and hard to believe, the group of Jewish militants is operatic, and the way the detective eventually walks to the final violent confrontation is pathetic. The end of the film itself is Mamet-like smart, but disappoints from a human emotional perspective.<br /><br />Joe Mantegna and William Macy give strong performances, but the flaws of the story are too evident to be easily compensated.\"\n",
      "Label : 0 (neg)\n",
      "Review: b'After Harry Reems\\' teenage girlfriend is raped by Zebbedy Colt (The Night-Walker), Reems becomes despondent and consoles himself by having sex with some lesbians. Meanwhile, Colt, who carries a cane and dresses like a magician, rapes some more women. Eventually, Reems decides to track him down and end his crime spree. Despite being shot on film and marginally nasty, it looks like any other 70\\'s porno and is ineptly executed. The rape/abuse scenes are surprisingly restrained and the attempt to cash in on \"Death Wish\" is laughable. R. Bolla (\"Cannibal Holocaust\") plays a cop. Colt, who is usually over-the-top, wigs out in a couple of scenes, but he\\'s too well behaved for my money. This roughie could have been much rougher.'\n",
      "Label : 0 (neg)\n"
     ]
    }
   ],
   "source": [
    "for text_batch, label_batch in train_ds.take(1):\n",
    "  for i in range(3):\n",
    "    print(f'Review: {text_batch.numpy()[i]}')\n",
    "    label = label_batch.numpy()[i]\n",
    "    print(f'Label : {label} ({class_names[label]})')"
   ]
  },
  {
   "cell_type": "markdown",
   "metadata": {
    "id": "MZb4ynQzVAXA"
   },
   "source": [
    "#Download bert preprocess model layer from tensorflow hub"
   ]
  },
  {
   "cell_type": "markdown",
   "metadata": {
    "id": "ycGvXeShbtpE"
   },
   "source": [
    "<div dir=rtl>\n",
    "در این سلول لایه ای از طبقه بند دانلود میشود که بوسیله آن به هر کلمه یک آیدی یکتا تخصیص داده میشود. بنابراین جملات ورودی به این لایه تبدیل به برداری میشوند که این بردار به تعداد کلمات جمله ورودی، عدد صحیح غیر صفر دارد و هر کدام از این اعداد صحیح صرفا مختص یک کلمه هستند.\n",
    "</div>"
   ]
  },
  {
   "cell_type": "code",
   "execution_count": 6,
   "metadata": {
    "id": "ERpPjNLvqkha"
   },
   "outputs": [],
   "source": [
    "bert_preprocess_model = hub.KerasLayer(\"https://tfhub.dev/tensorflow/bert_en_uncased_preprocess/3\")"
   ]
  },
  {
   "cell_type": "markdown",
   "metadata": {
    "id": "O662ZSOfVD0L"
   },
   "source": [
    "#Print a sample of vectorized texts (first 12 from each vector)"
   ]
  },
  {
   "cell_type": "markdown",
   "metadata": {
    "id": "IiFgU5iedXj-"
   },
   "source": [
    "<div dir=rtl>\n",
    "در این سلول کاربرد لایه دانلود شده در سلول قبلی نشان داده شده است.\n",
    "</div>"
   ]
  },
  {
   "cell_type": "code",
   "execution_count": 7,
   "metadata": {
    "colab": {
     "base_uri": "https://localhost:8080/"
    },
    "id": "xkvrHNO6qnPr",
    "outputId": "82fded3f-ddd4-4704-84eb-9002d1426861"
   },
   "outputs": [
    {
     "name": "stdout",
     "output_type": "stream",
     "text": [
      "Keys       : ['input_word_ids', 'input_type_ids', 'input_mask']\n",
      "Shape      : (1, 128)\n",
      "Word Ids   : [ 101 2023 2003 2107 2019 6429 3185  999  102    0    0    0]\n",
      "Input Mask : [1 1 1 1 1 1 1 1 1 0 0 0]\n",
      "Type Ids   : [0 0 0 0 0 0 0 0 0 0 0 0]\n"
     ]
    }
   ],
   "source": [
    "text_test = ['this is such an amazing movie!']\n",
    "text_preprocessed = bert_preprocess_model(text_test)\n",
    "\n",
    "print(f'Keys       : {list(text_preprocessed.keys())}')\n",
    "print(f'Shape      : {text_preprocessed[\"input_word_ids\"].shape}')\n",
    "print(f'Word Ids   : {text_preprocessed[\"input_word_ids\"][0, :12]}')\n",
    "print(f'Input Mask : {text_preprocessed[\"input_mask\"][0, :12]}')\n",
    "print(f'Type Ids   : {text_preprocessed[\"input_type_ids\"][0, :12]}')"
   ]
  },
  {
   "cell_type": "markdown",
   "metadata": {
    "id": "QH_nc6vfVGUU"
   },
   "source": [
    "#Download a pretrained layer of bert model from tensorflow hub\n"
   ]
  },
  {
   "cell_type": "markdown",
   "metadata": {
    "id": "ccMeIk_Udapa"
   },
   "source": [
    "<div dir=rtl>\n",
    "در این سلول لایه برت آموزش دیده دانلود میشود. این لایه وظیفه ایجاد بردار امبدینگ جملات تبدیل شده به بردار اعداد صحیح را دارد.\n",
    "</div>"
   ]
  },
  {
   "cell_type": "code",
   "execution_count": 8,
   "metadata": {
    "id": "TlPJ5hMJqn5j"
   },
   "outputs": [],
   "source": [
    "bert_model = hub.KerasLayer(\"https://tfhub.dev/tensorflow/small_bert/bert_en_uncased_L-4_H-512_A-8/1\")"
   ]
  },
  {
   "cell_type": "markdown",
   "metadata": {
    "id": "FXeDFx2FVIx6"
   },
   "source": [
    "#Print a sample of embeddong "
   ]
  },
  {
   "cell_type": "markdown",
   "metadata": {
    "id": "ml54uaeYdq76"
   },
   "source": [
    "<div dir=rtl>\n",
    "در این سلول یک نمونه از تبدیل بردار اعداد صحیح یه جمله به بردار امبدینگ نمایش داده شده است.\n",
    "</div>"
   ]
  },
  {
   "cell_type": "code",
   "execution_count": 9,
   "metadata": {
    "colab": {
     "base_uri": "https://localhost:8080/"
    },
    "id": "RkiOQuUGqrei",
    "outputId": "dac31b3c-be90-49f6-8ce9-31d5e679811e"
   },
   "outputs": [
    {
     "name": "stdout",
     "output_type": "stream",
     "text": [
      "Loaded BERT: https://tfhub.dev/tensorflow/small_bert/bert_en_uncased_L-4_H-512_A-8/1\n",
      "Pooled Outputs Shape:(1, 512)\n",
      "Pooled Outputs Values:[ 0.76262903  0.99280983 -0.18611853  0.3667385   0.15233739  0.6550446\n",
      "  0.9681154  -0.9486271   0.00216157 -0.9877732   0.06842728 -0.97630596]\n",
      "Sequence Outputs Shape:(1, 128, 512)\n",
      "Sequence Outputs Values:[[-0.28946295  0.34321263  0.33231527 ...  0.2130087   0.71020836\n",
      "  -0.05771071]\n",
      " [-0.2874208   0.31981027 -0.23018518 ...  0.5845508  -0.21329744\n",
      "   0.7269212 ]\n",
      " [-0.66157013  0.6887687  -0.8743292  ...  0.10877226 -0.26173285\n",
      "   0.47855547]\n",
      " ...\n",
      " [-0.22561097 -0.2892568  -0.07064426 ...  0.47566074  0.83277184\n",
      "   0.40025318]\n",
      " [-0.29824227 -0.27473107 -0.05450526 ...  0.488498    1.0955358\n",
      "   0.18163362]\n",
      " [-0.4437815   0.00930744  0.07223801 ...  0.17290124  1.1833242\n",
      "   0.07898009]]\n"
     ]
    }
   ],
   "source": [
    "bert_results = bert_model(text_preprocessed)\n",
    "tfhub_handle_encoder = 'https://tfhub.dev/tensorflow/small_bert/bert_en_uncased_L-4_H-512_A-8/1'\n",
    "print(f'Loaded BERT: {tfhub_handle_encoder}')\n",
    "print(f'Pooled Outputs Shape:{bert_results[\"pooled_output\"].shape}')\n",
    "print(f'Pooled Outputs Values:{bert_results[\"pooled_output\"][0, :12]}')\n",
    "print(f'Sequence Outputs Shape:{bert_results[\"sequence_output\"].shape}')\n",
    "print(f'Sequence Outputs Values:{bert_results[\"sequence_output\"][0, :12]}')"
   ]
  },
  {
   "cell_type": "markdown",
   "metadata": {
    "id": "9gCXRVzcVNyw"
   },
   "source": [
    "#Classifier definition"
   ]
  },
  {
   "cell_type": "markdown",
   "metadata": {
    "id": "NisRZwoqeB35"
   },
   "source": [
    "<div dir=rtl>\n",
    "در این سلول معماری طبقه بند ایجاد شده است. همانطور که مشخص است، در ابتدا یک لایه ورودی ایجاد شده است، سپس لایه تبدیل جمله به بردار اعداد صحیح ایجاد شده است، سپس لایه امبدینگ توسط برت اضافه شده استو در نهایت یک لایه دراپ اوت و تمام متصل اضافه شده و ایجاد معماری مدل به اتمام رسیده است.\n",
    "</div>"
   ]
  },
  {
   "cell_type": "code",
   "execution_count": 10,
   "metadata": {
    "id": "0plID91oqtja"
   },
   "outputs": [],
   "source": [
    "def build_classifier_model():\n",
    "  text_input = tf.keras.layers.Input(shape=(), dtype=tf.string, name='text')\n",
    "  preprocessing_layer = hub.KerasLayer(\"https://tfhub.dev/tensorflow/bert_en_uncased_preprocess/3\", name='preprocessing')\n",
    "  encoder_inputs = preprocessing_layer(text_input)\n",
    "  encoder = hub.KerasLayer(\"https://tfhub.dev/tensorflow/small_bert/bert_en_uncased_L-4_H-512_A-8/1\", trainable=True, name='BERT_encoder')\n",
    "  outputs = encoder(encoder_inputs)\n",
    "  net = outputs['pooled_output']\n",
    "  net = tf.keras.layers.Dropout(0.3)(net)\n",
    "  net = tf.keras.layers.Dense(1, activation='sigmoid', name='classifier')(net)\n",
    "  return tf.keras.Model(text_input, net)"
   ]
  },
  {
   "cell_type": "markdown",
   "metadata": {
    "id": "I6YpfLK4hrTz"
   },
   "source": [
    "#Initialization classifier"
   ]
  },
  {
   "cell_type": "markdown",
   "metadata": {
    "id": "2k02eoKTehLm"
   },
   "source": [
    "<div dir=rtl>\n",
    "در این سلول خروجی شبکه به ازای متن نمونه و تابع فعالساز خروجی سیگمویید نشان داده شده است.\n",
    "</div>"
   ]
  },
  {
   "cell_type": "code",
   "execution_count": 11,
   "metadata": {
    "colab": {
     "base_uri": "https://localhost:8080/"
    },
    "id": "3EAhYZrcqvdz",
    "outputId": "46fe907b-f06a-41f6-afe8-d08704ca3feb"
   },
   "outputs": [
    {
     "name": "stdout",
     "output_type": "stream",
     "text": [
      "tf.Tensor([[0.67695546]], shape=(1, 1), dtype=float32)\n"
     ]
    }
   ],
   "source": [
    "classifier_model = build_classifier_model()\n",
    "bert_raw_result = classifier_model(tf.constant(text_test))\n",
    "print(tf.sigmoid(bert_raw_result))"
   ]
  },
  {
   "cell_type": "markdown",
   "metadata": {
    "id": "uteSFGi3hu7U"
   },
   "source": [
    "#Print model diagram"
   ]
  },
  {
   "cell_type": "code",
   "execution_count": 12,
   "metadata": {
    "colab": {
     "base_uri": "https://localhost:8080/",
     "height": 466
    },
    "id": "XzgNYwwfqxJU",
    "outputId": "ef1f5ddc-cf28-4990-87c8-9403d391bc34"
   },
   "outputs": [
    {
     "data": {
      "image/png": "[encoded data removed]",
      "text/plain": [
       "<IPython.core.display.Image object>"
      ]
     },
     "execution_count": 12,
     "metadata": {},
     "output_type": "execute_result"
    }
   ],
   "source": [
    "tf.keras.utils.plot_model(classifier_model)"
   ]
  },
  {
   "cell_type": "markdown",
   "metadata": {
    "id": "IptjQBCqhzjL"
   },
   "source": [
    "# Loss function and optimizer definition"
   ]
  },
  {
   "cell_type": "markdown",
   "metadata": {
    "id": "XwO16k5Ae70j"
   },
   "source": [
    "<div dir=rtl>\n",
    "در این سلول به ترتیب تعداد دوره های آموزش شبکه، مقدار اولیه نرخ آموزش، تعداد گام ها در هر دوره آموزش، تعداد کل گام های آموزش، تعداد گام های وارم آپ (تعداد گام های وارم آپ تعداد دفعات آپدیت نرخ آموزش را تعیین میکند)، تابع هزینه (با توجه به تعداد نورون های لایه خروجی، از نوع باینری میباشد)، متریک برای تعیین پرفرومنس مدل در هنگام آموزش و تست و بهینه سازتعیین شده است\n",
    "</div>"
   ]
  },
  {
   "cell_type": "code",
   "execution_count": 13,
   "metadata": {
    "id": "q_g6kSZzqzFB"
   },
   "outputs": [],
   "source": [
    "epochs = 5\n",
    "init_lr = 3e-5\n",
    "steps_per_epoch = tf.data.experimental.cardinality(train_ds).numpy()\n",
    "num_train_steps = steps_per_epoch * epochs\n",
    "num_warmup_steps = int(0.1*num_train_steps)\n",
    "\n",
    "loss = tf.keras.losses.BinaryCrossentropy()\n",
    "metrics = tf.metrics.BinaryAccuracy()\n",
    "\n",
    "optimizer = optimization.create_optimizer(init_lr=init_lr,\n",
    "                                          num_train_steps=num_train_steps,\n",
    "                                          num_warmup_steps=num_warmup_steps,\n",
    "                                          optimizer_type='adamw')"
   ]
  },
  {
   "cell_type": "markdown",
   "metadata": {
    "id": "9Z3oKlARi2rB"
   },
   "source": [
    "#Model compile and train"
   ]
  },
  {
   "cell_type": "code",
   "execution_count": 14,
   "metadata": {
    "colab": {
     "base_uri": "https://localhost:8080/"
    },
    "id": "pyXacj1Wq4kI",
    "outputId": "eba7e79d-2714-498d-ddbb-9508c7de9d4f"
   },
   "outputs": [
    {
     "name": "stdout",
     "output_type": "stream",
     "text": [
      "Training model with https://tfhub.dev/tensorflow/small_bert/bert_en_uncased_L-4_H-512_A-8/1\n",
      "Epoch 1/5\n",
      "313/313 [==============================] - 181s 557ms/step - loss: 0.5252 - binary_accuracy: 0.7247 - val_loss: 0.3795 - val_binary_accuracy: 0.8270\n",
      "Epoch 2/5\n",
      "313/313 [==============================] - 173s 554ms/step - loss: 0.3668 - binary_accuracy: 0.8378 - val_loss: 0.3755 - val_binary_accuracy: 0.8386\n",
      "Epoch 3/5\n",
      "313/313 [==============================] - 173s 553ms/step - loss: 0.2991 - binary_accuracy: 0.8725 - val_loss: 0.3678 - val_binary_accuracy: 0.8470\n",
      "Epoch 4/5\n",
      "313/313 [==============================] - 173s 553ms/step - loss: 0.2494 - binary_accuracy: 0.8985 - val_loss: 0.3920 - val_binary_accuracy: 0.8520\n",
      "Epoch 5/5\n",
      "313/313 [==============================] - 174s 557ms/step - loss: 0.2145 - binary_accuracy: 0.9148 - val_loss: 0.4069 - val_binary_accuracy: 0.8510\n"
     ]
    }
   ],
   "source": [
    "classifier_model.compile(optimizer=optimizer,\n",
    "                         loss=loss,\n",
    "                         metrics=metrics)\n",
    "\n",
    "print(f'Training model with {tfhub_handle_encoder}')\n",
    "history = classifier_model.fit(x=train_ds,\n",
    "                               validation_data=val_ds,\n",
    "                               epochs=epochs)"
   ]
  },
  {
   "cell_type": "markdown",
   "metadata": {
    "id": "y22bir7bjDqz"
   },
   "source": [
    "#Model evaluation"
   ]
  },
  {
   "cell_type": "code",
   "execution_count": 15,
   "metadata": {
    "colab": {
     "base_uri": "https://localhost:8080/"
    },
    "id": "hc6fmulXq6fC",
    "outputId": "9eba45d6-553e-4e64-8b9b-504c09c0f56e"
   },
   "outputs": [
    {
     "name": "stdout",
     "output_type": "stream",
     "text": [
      "391/391 [==============================] - 111s 284ms/step - loss: 0.3866 - binary_accuracy: 0.8572\n",
      "Loss: 0.38659846782684326\n",
      "Accuracy: 0.8571599721908569\n"
     ]
    }
   ],
   "source": [
    "loss, accuracy = classifier_model.evaluate(test_ds)\n",
    "\n",
    "print(f'Loss: {loss}')\n",
    "print(f'Accuracy: {accuracy}')"
   ]
  }
 ],
 "metadata": {
  "accelerator": "GPU",
  "colab": {
   "name": "Main.ipynb",
   "provenance": []
  },
  "kernelspec": {
   "display_name": "Python 3 (ipykernel)",
   "language": "python",
   "name": "python3"
  },
  "language_info": {
   "codemirror_mode": {
    "name": "ipython",
    "version": 3
   },
   "file_extension": ".py",
   "mimetype": "text/x-python",
   "name": "python",
   "nbconvert_exporter": "python",
   "pygments_lexer": "ipython3",
   "version": "3.9.7"
  }
 },
 "nbformat": 4,
 "nbformat_minor": 1
}
