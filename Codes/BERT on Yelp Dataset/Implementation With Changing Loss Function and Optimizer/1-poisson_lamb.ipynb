{
  "cells": [
    {
      "cell_type": "markdown",
      "source": [
        "#Install required libraries"
      ],
      "metadata": {
        "id": "Ei01AACMTRoY"
      }
    },
    {
      "cell_type": "markdown",
      "source": [
        "<div dir=rtl>\n",
        "در این سلول، کتابخانه های مورد نیاز بترتیب برای پیش پردازش متن ها و نیز ایجاد اپتیمایزر نصب میشوند.\n",
        "</div>"
      ],
      "metadata": {
        "id": "j1hGolpoVfij"
      }
    },
    {
      "cell_type": "code",
      "execution_count": 1,
      "metadata": {
        "id": "QglLXMUxqCNq",
        "colab": {
          "base_uri": "https://localhost:8080/"
        },
        "outputId": "a788b389-0c73-4f5a-a7cc-42257391f802"
      },
      "outputs": [
        {
          "output_type": "stream",
          "name": "stdout",
          "text": [
            "\u001b[K     |████████████████████████████████| 4.6 MB 5.3 MB/s \n",
            "\u001b[K     |████████████████████████████████| 511.7 MB 6.9 kB/s \n",
            "\u001b[K     |████████████████████████████████| 5.8 MB 39.6 MB/s \n",
            "\u001b[K     |████████████████████████████████| 438 kB 67.4 MB/s \n",
            "\u001b[K     |████████████████████████████████| 1.6 MB 58.3 MB/s \n",
            "\u001b[K     |████████████████████████████████| 2.1 MB 5.3 MB/s \n",
            "\u001b[K     |████████████████████████████████| 48.3 MB 1.2 MB/s \n",
            "\u001b[K     |████████████████████████████████| 92 kB 14.6 MB/s \n",
            "\u001b[K     |████████████████████████████████| 352 kB 68.6 MB/s \n",
            "\u001b[K     |████████████████████████████████| 43 kB 2.6 MB/s \n",
            "\u001b[K     |████████████████████████████████| 1.1 MB 58.8 MB/s \n",
            "\u001b[K     |████████████████████████████████| 636 kB 59.1 MB/s \n",
            "\u001b[K     |████████████████████████████████| 99 kB 12.3 MB/s \n",
            "\u001b[K     |████████████████████████████████| 1.2 MB 54.5 MB/s \n",
            "\u001b[K     |████████████████████████████████| 237 kB 71.2 MB/s \n",
            "\u001b[?25h  Building wheel for py-cpuinfo (setup.py) ... \u001b[?25l\u001b[?25hdone\n",
            "  Building wheel for seqeval (setup.py) ... \u001b[?25l\u001b[?25hdone\n"
          ]
        }
      ],
      "source": [
        "!pip install -q tensorflow-text\n",
        "!pip install -q tf-models-official"
      ]
    },
    {
      "cell_type": "markdown",
      "source": [
        "#Import required libraries"
      ],
      "metadata": {
        "id": "8zMuQInaTV13"
      }
    },
    {
      "cell_type": "code",
      "execution_count": 2,
      "metadata": {
        "id": "l5WXbEaIqTqF",
        "colab": {
          "base_uri": "https://localhost:8080/"
        },
        "outputId": "79cfa17d-ddb4-4593-b7b8-73478e81c758"
      },
      "outputs": [
        {
          "output_type": "stream",
          "name": "stderr",
          "text": [
            "[nltk_data] Downloading package stopwords to /root/nltk_data...\n",
            "[nltk_data]   Unzipping corpora/stopwords.zip.\n",
            "[nltk_data] Downloading package punkt to /root/nltk_data...\n",
            "[nltk_data]   Unzipping tokenizers/punkt.zip.\n"
          ]
        }
      ],
      "source": [
        "import os\n",
        "import shutil\n",
        "\n",
        "import tensorflow as tf\n",
        "import tensorflow_hub as hub\n",
        "import tensorflow_text as text\n",
        "from official.nlp import optimization  \n",
        "\n",
        "import pandas as pd\n",
        "import numpy as np\n",
        "import nltk\n",
        "nltk.download('stopwords')\n",
        "nltk.download('punkt')\n",
        "import string\n",
        "import re\n",
        "from nltk.corpus import stopwords\n",
        "from nltk.tokenize import word_tokenize\n",
        "\n",
        "import random\n",
        "tf.get_logger().setLevel('ERROR')"
      ]
    },
    {
      "cell_type": "markdown",
      "source": [
        "#Download dataset"
      ],
      "metadata": {
        "id": "QhPpSNi-TXiP"
      }
    },
    {
      "cell_type": "markdown",
      "source": [
        "<div dir=rtl>\n",
        "داده ها در ابتدا دانلود شده و پس از استخراج از حالت فشرده، 50 هزار نمونه برای ترین و 10 هزار نمونه برای تست انتخاب میشود.\n",
        "</div>"
      ],
      "metadata": {
        "id": "W5U4Z6mjYi91"
      }
    },
    {
      "cell_type": "code",
      "execution_count": 3,
      "metadata": {
        "id": "q4FIBR_mqYUO",
        "colab": {
          "base_uri": "https://localhost:8080/"
        },
        "outputId": "be2eab70-44a3-4271-9de1-103778c3dd90"
      },
      "outputs": [
        {
          "output_type": "stream",
          "name": "stdout",
          "text": [
            "--2022-07-02 20:15:28--  https://s3.amazonaws.com/fast-ai-nlp/yelp_review_polarity_csv.tgz\n",
            "Resolving s3.amazonaws.com (s3.amazonaws.com)... 54.231.192.200\n",
            "Connecting to s3.amazonaws.com (s3.amazonaws.com)|54.231.192.200|:443... connected.\n",
            "HTTP request sent, awaiting response... 200 OK\n",
            "Length: 166373201 (159M) [application/x-tar]\n",
            "Saving to: ‘yelp_review_polarity_csv.tgz’\n",
            "\n",
            "yelp_review_polarit 100%[===================>] 158.67M  57.7MB/s    in 2.7s    \n",
            "\n",
            "2022-07-02 20:15:31 (57.7 MB/s) - ‘yelp_review_polarity_csv.tgz’ saved [166373201/166373201]\n",
            "\n",
            "yelp_review_polarity_csv/\n",
            "yelp_review_polarity_csv/train.csv\n",
            "yelp_review_polarity_csv/readme.txt\n",
            "yelp_review_polarity_csv/test.csv\n"
          ]
        }
      ],
      "source": [
        "!wget https://s3.amazonaws.com/fast-ai-nlp/yelp_review_polarity_csv.tgz\n",
        "!tar -xvzf yelp_review_polarity_csv.tgz\n",
        "\n",
        "train_data = pd.read_csv('yelp_review_polarity_csv/train.csv', header = None)\n",
        "test_data = pd.read_csv('yelp_review_polarity_csv/test.csv', header = None)\n",
        "\n",
        "X_train = train_data[1].values[:50000]\n",
        "y_train = train_data[0].values[:50000]\n",
        "\n",
        "X_test = test_data[1].values[:10000]\n",
        "y_test = test_data[0].values[:10000]"
      ]
    },
    {
      "cell_type": "markdown",
      "source": [
        "#Preprcessing data"
      ],
      "metadata": {
        "id": "JBKVgMI8ubPh"
      }
    },
    {
      "cell_type": "code",
      "source": [
        "def text_lowercase(text):\n",
        "    return text.lower()\n",
        "\n",
        "def remove_numbers(text):\n",
        "    result = re.sub(r'\\d+', '', text)\n",
        "    return result\n",
        "\n",
        "def remove_punctuation(text):\n",
        "    translator = str.maketrans('', '', string.punctuation)\n",
        "    return text.translate(translator)\n",
        "\n",
        "def remove_whitespace(text):\n",
        "    return  \" \".join(text.split())\n",
        "\n",
        "def remove_stopwords(text):\n",
        "    stop_words = list(set(stopwords.words(\"english\")))\n",
        "    word_tokens = word_tokenize(text)\n",
        "    filtered_text = \"\".join(w + \" \" for w in word_tokens if w not in stop_words)\n",
        "    return filtered_text.strip()\n",
        "\n",
        "\n",
        "X_train = np.array(list(map(lambda a: text_lowercase(a), X_train)))\n",
        "X_train = np.array(list(map(lambda a: remove_numbers(a), X_train)))\n",
        "X_train = np.array(list(map(lambda a: remove_punctuation(a), X_train)))\n",
        "X_train = np.array(list(map(lambda a: remove_whitespace(a), X_train)))\n",
        "X_train = np.array(list(map(lambda a: remove_stopwords(a), X_train)))\n",
        "\n",
        "X_test = np.array(list(map(lambda a: text_lowercase(a), X_test)))\n",
        "X_test = np.array(list(map(lambda a: remove_numbers(a), X_test)))\n",
        "X_test = np.array(list(map(lambda a: remove_punctuation(a), X_test)))\n",
        "X_test = np.array(list(map(lambda a: remove_whitespace(a), X_test)))\n",
        "X_test = np.array(list(map(lambda a: remove_stopwords(a), X_test)))\n",
        "\n",
        "y_train = y_train - 1\n",
        "y_test = y_test - 1\n",
        "\n",
        "train_inds = list(range(len(X_train)))\n",
        "random.shuffle(train_inds)\n",
        "\n",
        "val_inds = train_inds[:int(0.2 * len(X_train))]\n",
        "train_inds = train_inds[int(0.2 * len(X_train)):]\n",
        "\n",
        "X_val = X_train[val_inds]\n",
        "y_val = y_train[val_inds]\n",
        "\n",
        "X_train = X_train[train_inds]\n",
        "y_train = y_train[train_inds]"
      ],
      "metadata": {
        "id": "GCGl0kQJtzgv"
      },
      "execution_count": 4,
      "outputs": []
    },
    {
      "cell_type": "markdown",
      "source": [
        "#Data prepration"
      ],
      "metadata": {
        "id": "ec53O46WTZ-0"
      }
    },
    {
      "cell_type": "markdown",
      "source": [
        "<div dir=rtl>\n",
        "داده ها از آرایه به داده های با فرمت تنسور تبدیل میشوند\n",
        "</div>"
      ],
      "metadata": {
        "id": "CjZ2UOTsacqk"
      }
    },
    {
      "cell_type": "code",
      "execution_count": 5,
      "metadata": {
        "id": "gtwbOEFNqc-W"
      },
      "outputs": [],
      "source": [
        "batch_size = 64\n",
        "\n",
        "train_data = tf.data.Dataset.from_tensor_slices((X_train, y_train)).batch(batch_size)\n",
        "test_data = tf.data.Dataset.from_tensor_slices((X_test, y_test)).batch(batch_size)\n",
        "val_data = tf.data.Dataset.from_tensor_slices((X_val, y_val)).batch(batch_size)"
      ]
    },
    {
      "cell_type": "markdown",
      "source": [
        "#Download bert preprocess model layer from tensorflow hub"
      ],
      "metadata": {
        "id": "MZb4ynQzVAXA"
      }
    },
    {
      "cell_type": "markdown",
      "source": [
        "<div dir=rtl>\n",
        "در این سلول لایه ای از طبقه بند دانلود میشود که بوسیله آن به هر کلمه یک آیدی یکتا تخصیص داده میشود. بنابراین جملات ورودی به این لایه تبدیل به برداری میشوند که این بردار به تعداد کلمات جمله ورودی، عدد صحیح غیر صفر دارد و هر کدام از این اعداد صحیح صرفا مختص یک کلمه هستند.\n",
        "</div>"
      ],
      "metadata": {
        "id": "ycGvXeShbtpE"
      }
    },
    {
      "cell_type": "code",
      "execution_count": 6,
      "metadata": {
        "id": "ERpPjNLvqkha"
      },
      "outputs": [],
      "source": [
        "bert_preprocess_model = hub.KerasLayer(\"https://tfhub.dev/tensorflow/bert_en_uncased_preprocess/3\")"
      ]
    },
    {
      "cell_type": "markdown",
      "source": [
        "#Print a sample of vectorized texts (first 12 from each vector)"
      ],
      "metadata": {
        "id": "O662ZSOfVD0L"
      }
    },
    {
      "cell_type": "markdown",
      "source": [
        "<div dir=rtl>\n",
        "در این سلول کاربرد لایه دانلود شده در سلول قبلی نشان داده شده است.\n",
        "</div>"
      ],
      "metadata": {
        "id": "IiFgU5iedXj-"
      }
    },
    {
      "cell_type": "code",
      "execution_count": 7,
      "metadata": {
        "colab": {
          "base_uri": "https://localhost:8080/"
        },
        "id": "xkvrHNO6qnPr",
        "outputId": "f454d300-d041-4613-d33e-009b50198b5e"
      },
      "outputs": [
        {
          "output_type": "stream",
          "name": "stdout",
          "text": [
            "Keys       : ['input_type_ids', 'input_word_ids', 'input_mask']\n",
            "Shape      : (1, 128)\n",
            "Word Ids   : [ 101 1045 2572 2200 6517  102    0    0    0    0    0    0]\n",
            "Input Mask : [1 1 1 1 1 1 0 0 0 0 0 0]\n",
            "Type Ids   : [0 0 0 0 0 0 0 0 0 0 0 0]\n"
          ]
        }
      ],
      "source": [
        "text_test = ['I am very sad']\n",
        "text_preprocessed = bert_preprocess_model(text_test)\n",
        "\n",
        "print(f'Keys       : {list(text_preprocessed.keys())}')\n",
        "print(f'Shape      : {text_preprocessed[\"input_word_ids\"].shape}')\n",
        "print(f'Word Ids   : {text_preprocessed[\"input_word_ids\"][0, :12]}')\n",
        "print(f'Input Mask : {text_preprocessed[\"input_mask\"][0, :12]}')\n",
        "print(f'Type Ids   : {text_preprocessed[\"input_type_ids\"][0, :12]}')"
      ]
    },
    {
      "cell_type": "markdown",
      "source": [
        "#Download a pretrained layer of bert model from tensorflow hub\n"
      ],
      "metadata": {
        "id": "QH_nc6vfVGUU"
      }
    },
    {
      "cell_type": "markdown",
      "source": [
        "<div dir=rtl>\n",
        "در این سلول لایه برت آموزش دیده دانلود میشود. این لایه وظیفه ایجاد بردار امبدینگ جملات تبدیل شده به بردار اعداد صحیح را دارد.\n",
        "</div>"
      ],
      "metadata": {
        "id": "ccMeIk_Udapa"
      }
    },
    {
      "cell_type": "code",
      "execution_count": 8,
      "metadata": {
        "id": "TlPJ5hMJqn5j"
      },
      "outputs": [],
      "source": [
        "bert_model = hub.KerasLayer(\"https://tfhub.dev/tensorflow/small_bert/bert_en_uncased_L-4_H-512_A-8/1\")"
      ]
    },
    {
      "cell_type": "markdown",
      "source": [
        "#Print a sample of embeddong "
      ],
      "metadata": {
        "id": "FXeDFx2FVIx6"
      }
    },
    {
      "cell_type": "markdown",
      "source": [
        "<div dir=rtl>\n",
        "در این سلول یک نمونه از تبدیل بردار اعداد صحیح یه جمله به بردار امبدینگ نمایش داده شده است.\n",
        "</div>"
      ],
      "metadata": {
        "id": "ml54uaeYdq76"
      }
    },
    {
      "cell_type": "code",
      "execution_count": 9,
      "metadata": {
        "colab": {
          "base_uri": "https://localhost:8080/"
        },
        "id": "RkiOQuUGqrei",
        "outputId": "25b2a359-fa11-4477-c9fe-d84ebca2ff97"
      },
      "outputs": [
        {
          "output_type": "stream",
          "name": "stdout",
          "text": [
            "Loaded BERT: https://tfhub.dev/tensorflow/small_bert/bert_en_uncased_L-4_H-512_A-8/1\n",
            "Pooled Outputs Shape:(1, 512)\n",
            "Pooled Outputs Values:[ 6.4421439e-01  8.3998489e-01 -5.9660041e-04  3.6334994e-01\n",
            "  1.9543417e-02  9.8199868e-01  9.9973828e-01 -8.4613484e-01\n",
            " -2.6827723e-01 -9.9975228e-01  4.4512892e-01 -9.9474567e-01]\n",
            "Sequence Outputs Shape:(1, 128, 512)\n",
            "Sequence Outputs Values:[[ 0.4264921  -0.07664166  0.47126234 ... -1.9925171  -0.10882223\n",
            "   0.21042255]\n",
            " [ 0.53082246  0.35606366  0.25034866 ... -1.407059    0.08821574\n",
            "  -0.40133435]\n",
            " [ 0.21216527  0.35808447 -0.2600027  ... -1.5148194  -0.99928594\n",
            "  -0.3359062 ]\n",
            " ...\n",
            " [ 0.36093473 -0.7267612  -0.5357293  ... -0.97871506  0.25719464\n",
            "   0.25364357]\n",
            " [ 0.49925643 -0.48690543 -0.3228518  ... -1.0170404   0.3102335\n",
            "  -0.10544414]\n",
            " [ 0.26277962 -0.45932132 -0.1052995  ... -0.8812504   0.5005714\n",
            "   0.19059947]]\n"
          ]
        }
      ],
      "source": [
        "bert_results = bert_model(text_preprocessed)\n",
        "tfhub_handle_encoder = 'https://tfhub.dev/tensorflow/small_bert/bert_en_uncased_L-4_H-512_A-8/1'\n",
        "print(f'Loaded BERT: {tfhub_handle_encoder}')\n",
        "print(f'Pooled Outputs Shape:{bert_results[\"pooled_output\"].shape}')\n",
        "print(f'Pooled Outputs Values:{bert_results[\"pooled_output\"][0, :12]}')\n",
        "print(f'Sequence Outputs Shape:{bert_results[\"sequence_output\"].shape}')\n",
        "print(f'Sequence Outputs Values:{bert_results[\"sequence_output\"][0, :12]}')"
      ]
    },
    {
      "cell_type": "markdown",
      "source": [
        "#Classifier definition"
      ],
      "metadata": {
        "id": "9gCXRVzcVNyw"
      }
    },
    {
      "cell_type": "markdown",
      "source": [
        "<div dir=rtl>\n",
        "در این سلول معماری طبقه بند ایجاد شده است. همانطور که مشخص است، در ابتدا یک لایه ورودی ایجاد شده است، سپس لایه تبدیل جمله به بردار اعداد صحیح ایجاد شده است، سپس لایه امبدینگ توسط برت اضافه شده استو در نهایت یک لایه دراپ اوت و تمام متصل اضافه شده و ایجاد معماری مدل به اتمام رسیده است.\n",
        "</div>"
      ],
      "metadata": {
        "id": "NisRZwoqeB35"
      }
    },
    {
      "cell_type": "code",
      "execution_count": 10,
      "metadata": {
        "id": "0plID91oqtja"
      },
      "outputs": [],
      "source": [
        "def build_classifier_model():\n",
        "  text_input = tf.keras.layers.Input(shape=(), dtype=tf.string, name='text')\n",
        "  preprocessing_layer = hub.KerasLayer(\"https://tfhub.dev/tensorflow/bert_en_uncased_preprocess/3\", name='preprocessing')\n",
        "  encoder_inputs = preprocessing_layer(text_input)\n",
        "  encoder = hub.KerasLayer(\"https://tfhub.dev/tensorflow/small_bert/bert_en_uncased_L-4_H-512_A-8/1\", trainable=True, name='BERT_encoder')\n",
        "  outputs = encoder(encoder_inputs)\n",
        "  net = outputs['pooled_output']\n",
        "  net = tf.keras.layers.Dropout(0.3)(net)\n",
        "  net = tf.keras.layers.Dense(1, activation='sigmoid', name='classifier')(net)\n",
        "  return tf.keras.Model(text_input, net)"
      ]
    },
    {
      "cell_type": "markdown",
      "source": [
        "#Initialization classifier"
      ],
      "metadata": {
        "id": "I6YpfLK4hrTz"
      }
    },
    {
      "cell_type": "markdown",
      "source": [
        "<div dir=rtl>\n",
        "در این سلول خروجی شبکه به ازای متن نمونه و تابع فعالساز خروجی سیگمویید نشان داده شده است.\n",
        "</div>"
      ],
      "metadata": {
        "id": "2k02eoKTehLm"
      }
    },
    {
      "cell_type": "code",
      "execution_count": 11,
      "metadata": {
        "colab": {
          "base_uri": "https://localhost:8080/"
        },
        "id": "3EAhYZrcqvdz",
        "outputId": "6e3655f3-73e4-4391-9146-3c0c68e9905b"
      },
      "outputs": [
        {
          "output_type": "stream",
          "name": "stdout",
          "text": [
            "tf.Tensor([[0.56267023]], shape=(1, 1), dtype=float32)\n"
          ]
        }
      ],
      "source": [
        "classifier_model = build_classifier_model()\n",
        "bert_raw_result = classifier_model(tf.constant(text_test))\n",
        "print(tf.sigmoid(bert_raw_result))"
      ]
    },
    {
      "cell_type": "markdown",
      "source": [
        "#Print model diagram"
      ],
      "metadata": {
        "id": "uteSFGi3hu7U"
      }
    },
    {
      "cell_type": "code",
      "execution_count": null,
      "metadata": {
        "colab": {
          "base_uri": "https://localhost:8080/",
          "height": 466
        },
        "id": "XzgNYwwfqxJU",
        "outputId": "141c61b8-035c-4820-f1ec-c7ebca9d4aa1"
      },
      "outputs": [
        {
          "output_type": "execute_result",
          "data": {
            "text/plain": [
              "<IPython.core.display.Image object>"
            ],
            "image/png": "[encoded data removed]"
          },
          "metadata": {},
          "execution_count": 12
        }
      ],
      "source": [
        "tf.keras.utils.plot_model(classifier_model)"
      ]
    },
    {
      "cell_type": "markdown",
      "source": [
        "# Loss function and optimizer definition"
      ],
      "metadata": {
        "id": "IptjQBCqhzjL"
      }
    },
    {
      "cell_type": "markdown",
      "source": [
        "<div dir=rtl>\n",
        "در این سلول به ترتیب تعداد دوره های آموزش شبکه، مقدار اولیه نرخ آموزش، تعداد گام ها در هر دوره آموزش، تعداد کل گام های آموزش، تعداد گام های وارم آپ (تعداد گام های وارم آپ تعداد دفعات آپدیت نرخ آموزش را تعیین میکند)، تابع هزینه (با توجه به تعداد نورون های لایه خروجی، از نوع باینری میباشد)، متریک برای تعیین پرفرومنس مدل در هنگام آموزش و تست و بهینه سازتعیین شده است\n",
        "</div>"
      ],
      "metadata": {
        "id": "XwO16k5Ae70j"
      }
    },
    {
      "cell_type": "code",
      "execution_count": 14,
      "metadata": {
        "id": "q_g6kSZzqzFB"
      },
      "outputs": [],
      "source": [
        "epochs = 2\n",
        "init_lr = 3e-5\n",
        "steps_per_epoch = tf.data.experimental.cardinality(train_data).numpy()\n",
        "num_train_steps = steps_per_epoch * epochs\n",
        "num_warmup_steps = int(0.1*num_train_steps)\n",
        "\n",
        "loss = tf.keras.losses.Poisson()\n",
        "metrics = tf.metrics.BinaryAccuracy()\n",
        "\n",
        "optimizer = optimization.create_optimizer(init_lr=init_lr,\n",
        "                                          num_train_steps=num_train_steps,\n",
        "                                          num_warmup_steps=num_warmup_steps,\n",
        "                                          optimizer_type='lamb')"
      ]
    },
    {
      "cell_type": "markdown",
      "source": [
        "#Model compile and train"
      ],
      "metadata": {
        "id": "9Z3oKlARi2rB"
      }
    },
    {
      "cell_type": "code",
      "execution_count": 15,
      "metadata": {
        "colab": {
          "base_uri": "https://localhost:8080/"
        },
        "id": "pyXacj1Wq4kI",
        "outputId": "fb913b9b-4bcd-40ed-f2a3-68aa4d69b3a6"
      },
      "outputs": [
        {
          "output_type": "stream",
          "name": "stdout",
          "text": [
            "Training model with https://tfhub.dev/tensorflow/small_bert/bert_en_uncased_L-4_H-512_A-8/1\n",
            "Epoch 1/2\n",
            "625/625 [==============================] - 343s 529ms/step - loss: 0.7208 - binary_accuracy: 0.7330 - val_loss: 0.6308 - val_binary_accuracy: 0.8597\n",
            "Epoch 2/2\n",
            "625/625 [==============================] - 328s 524ms/step - loss: 0.6237 - binary_accuracy: 0.8622 - val_loss: 0.6142 - val_binary_accuracy: 0.8781\n"
          ]
        }
      ],
      "source": [
        "classifier_model.compile(optimizer=optimizer,\n",
        "                         loss=loss,\n",
        "                         metrics=metrics)\n",
        "\n",
        "print(f'Training model with {tfhub_handle_encoder}')\n",
        "history = classifier_model.fit(x=train_data,\n",
        "                               validation_data=val_data,\n",
        "                               epochs=epochs)"
      ]
    },
    {
      "cell_type": "markdown",
      "source": [
        "#Plot history"
      ],
      "metadata": {
        "id": "_eLnwfz3_H0u"
      }
    },
    {
      "cell_type": "code",
      "source": [
        "from matplotlib import pyplot as plt\n",
        "\n",
        "fix, ax = plt.subplots(1,2, figsize = (20, 10))\n",
        "\n",
        "ax[0].plot(history.history['binary_accuracy'])\n",
        "ax[0].plot(history.history['val_binary_accuracy'])\n",
        "ax[0].set_title('model accuracy')\n",
        "ax[0].set_ylabel('accuracy')\n",
        "ax[0].set_xlabel('epoch')\n",
        "ax[0].legend(['train', 'val'], loc='upper left')\n",
        "\n",
        "ax[1].plot(history.history['loss'])\n",
        "ax[1].plot(history.history['val_loss'])\n",
        "ax[1].set_title('model loss')\n",
        "ax[1].set_ylabel('loss')\n",
        "ax[1].set_xlabel('epoch')\n",
        "ax[1].legend(['train', 'val'], loc='upper left')"
      ],
      "metadata": {
        "colab": {
          "base_uri": "https://localhost:8080/",
          "height": 555
        },
        "id": "e-6G3sN8_JcN",
        "outputId": "34df0bc8-ab89-467c-ca36-26efe5df40d8"
      },
      "execution_count": 16,
      "outputs": [
        {
          "output_type": "execute_result",
          "data": {
            "text/plain": [
              "<matplotlib.legend.Legend at 0x7f2fbaba8850>"
            ]
          },
          "metadata": {},
          "execution_count": 16
        },
        {
          "output_type": "display_data",
          "data": {
            "text/plain": [
              "<Figure size 1440x720 with 2 Axes>"
            ],
            "image/png": "[encoded data removed]"
          },
          "metadata": {
            "needs_background": "light"
          }
        }
      ]
    },
    {
      "cell_type": "markdown",
      "source": [
        "#Model evaluation"
      ],
      "metadata": {
        "id": "y22bir7bjDqz"
      }
    },
    {
      "cell_type": "code",
      "source": [
        "def round_func(n):\n",
        "    if n < 0.5:\n",
        "        return 0\n",
        "    else:\n",
        "        return 1"
      ],
      "metadata": {
        "id": "qkF-0B0mKFvT"
      },
      "execution_count": 17,
      "outputs": []
    },
    {
      "cell_type": "code",
      "execution_count": 18,
      "metadata": {
        "colab": {
          "base_uri": "https://localhost:8080/"
        },
        "id": "hc6fmulXq6fC",
        "outputId": "36e0107b-71e6-4512-ad28-39bd46ce8e41"
      },
      "outputs": [
        {
          "output_type": "stream",
          "name": "stdout",
          "text": [
            "157/157 [==============================] - 39s 246ms/step\n"
          ]
        }
      ],
      "source": [
        "preds = classifier_model.predict(test_data)\n",
        "preds = preds.reshape(1, -1)[0]\n",
        "preds = np.array(list(map(lambda a:round_func(a), preds)))"
      ]
    },
    {
      "cell_type": "code",
      "source": [
        "from sklearn.metrics import classification_report\n",
        "print(classification_report(y_test, preds, target_names=['negative', 'positive']))"
      ],
      "metadata": {
        "colab": {
          "base_uri": "https://localhost:8080/"
        },
        "id": "qaRKJhgGIydH",
        "outputId": "b1d67de2-afbd-4c1b-b083-db1cd7ccf1cd"
      },
      "execution_count": 19,
      "outputs": [
        {
          "output_type": "stream",
          "name": "stdout",
          "text": [
            "              precision    recall  f1-score   support\n",
            "\n",
            "    negative       0.89      0.87      0.88      5367\n",
            "    positive       0.85      0.87      0.86      4633\n",
            "\n",
            "    accuracy                           0.87     10000\n",
            "   macro avg       0.87      0.87      0.87     10000\n",
            "weighted avg       0.87      0.87      0.87     10000\n",
            "\n"
          ]
        }
      ]
    }
  ],
  "metadata": {
    "accelerator": "GPU",
    "colab": {
      "name": "poisson_lamb.ipynb",
      "provenance": []
    },
    "kernelspec": {
      "display_name": "Python 3",
      "language": "python",
      "name": "python3"
    },
    "language_info": {
      "codemirror_mode": {
        "name": "ipython",
        "version": 3
      },
      "file_extension": ".py",
      "mimetype": "text/x-python",
      "name": "python",
      "nbconvert_exporter": "python",
      "pygments_lexer": "ipython3",
      "version": "3.8.0"
    }
  },
  "nbformat": 4,
  "nbformat_minor": 0
}